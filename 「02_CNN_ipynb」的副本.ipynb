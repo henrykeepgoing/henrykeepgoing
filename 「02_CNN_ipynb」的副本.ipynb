{
  "nbformat": 4,
  "nbformat_minor": 0,
  "metadata": {
    "kernelspec": {
      "display_name": "Python 3",
      "language": "python",
      "name": "python3"
    },
    "language_info": {
      "codemirror_mode": {
        "name": "ipython",
        "version": 3
      },
      "file_extension": ".py",
      "mimetype": "text/x-python",
      "name": "python",
      "nbconvert_exporter": "python",
      "pygments_lexer": "ipython3",
      "version": "3.7.3"
    },
    "colab": {
      "name": "「02 CNN.ipynb」的副本",
      "provenance": []
    },
    "widgets": {
      "application/vnd.jupyter.widget-state+json": {
        "21d47cf4864445598041fe89c0db7799": {
          "model_module": "@jupyter-widgets/controls",
          "model_name": "VBoxModel",
          "state": {
            "_view_name": "VBoxView",
            "_dom_classes": [
              "widget-interact"
            ],
            "_model_name": "VBoxModel",
            "_view_module": "@jupyter-widgets/controls",
            "_model_module_version": "1.5.0",
            "_view_count": null,
            "_view_module_version": "1.5.0",
            "box_style": "",
            "layout": "IPY_MODEL_715164be77384bd6b9bf356a07e42651",
            "_model_module": "@jupyter-widgets/controls",
            "children": [
              "IPY_MODEL_21fdf744e4be49f6a2cea7b19d9386db",
              "IPY_MODEL_b7bc6e346903423cb0614758f0f7362d",
              "IPY_MODEL_91cf189379e54d0181a5fe6a7a25b906"
            ]
          }
        },
        "715164be77384bd6b9bf356a07e42651": {
          "model_module": "@jupyter-widgets/base",
          "model_name": "LayoutModel",
          "state": {
            "_view_name": "LayoutView",
            "grid_template_rows": null,
            "right": null,
            "justify_content": null,
            "_view_module": "@jupyter-widgets/base",
            "overflow": null,
            "_model_module_version": "1.2.0",
            "_view_count": null,
            "flex_flow": null,
            "width": null,
            "min_width": null,
            "border": null,
            "align_items": null,
            "bottom": null,
            "_model_module": "@jupyter-widgets/base",
            "top": null,
            "grid_column": null,
            "overflow_y": null,
            "overflow_x": null,
            "grid_auto_flow": null,
            "grid_area": null,
            "grid_template_columns": null,
            "flex": null,
            "_model_name": "LayoutModel",
            "justify_items": null,
            "grid_row": null,
            "max_height": null,
            "align_content": null,
            "visibility": null,
            "align_self": null,
            "height": null,
            "min_height": null,
            "padding": null,
            "grid_auto_rows": null,
            "grid_gap": null,
            "max_width": null,
            "order": null,
            "_view_module_version": "1.2.0",
            "grid_template_areas": null,
            "object_position": null,
            "object_fit": null,
            "grid_auto_columns": null,
            "margin": null,
            "display": null,
            "left": null
          }
        },
        "21fdf744e4be49f6a2cea7b19d9386db": {
          "model_module": "@jupyter-widgets/controls",
          "model_name": "IntSliderModel",
          "state": {
            "_view_name": "IntSliderView",
            "style": "IPY_MODEL_dd3aaab7d113448fb4e06d779e8400c3",
            "_dom_classes": [],
            "description": "n",
            "step": 1,
            "_model_name": "IntSliderModel",
            "orientation": "horizontal",
            "max": 9999,
            "_view_module": "@jupyter-widgets/controls",
            "_model_module_version": "1.5.0",
            "value": 7596,
            "_view_count": null,
            "disabled": false,
            "_view_module_version": "1.5.0",
            "min": 0,
            "continuous_update": true,
            "readout_format": "d",
            "description_tooltip": null,
            "readout": true,
            "_model_module": "@jupyter-widgets/controls",
            "layout": "IPY_MODEL_8715941614084738a7d4ef25e21d1da0"
          }
        },
        "b7bc6e346903423cb0614758f0f7362d": {
          "model_module": "@jupyter-widgets/controls",
          "model_name": "ButtonModel",
          "state": {
            "_view_name": "ButtonView",
            "style": "IPY_MODEL_4e035b0af6514fbea0f7f5e16661f40a",
            "_dom_classes": [],
            "description": "Run Interact",
            "_model_name": "ButtonModel",
            "button_style": "",
            "_view_module": "@jupyter-widgets/controls",
            "_model_module_version": "1.5.0",
            "tooltip": "",
            "_view_count": null,
            "disabled": false,
            "_view_module_version": "1.5.0",
            "layout": "IPY_MODEL_130cdf90c9774d12b7c0d9fc8207f0e4",
            "_model_module": "@jupyter-widgets/controls",
            "icon": ""
          }
        },
        "91cf189379e54d0181a5fe6a7a25b906": {
          "model_module": "@jupyter-widgets/output",
          "model_name": "OutputModel",
          "state": {
            "_view_name": "OutputView",
            "msg_id": "",
            "_dom_classes": [],
            "_model_name": "OutputModel",
            "outputs": [
              {
                "output_type": "stream",
                "metadata": {
                  "tags": []
                },
                "text": "我可愛的 CNN 預測是 6\n",
                "stream": "stdout"
              },
              {
                "output_type": "display_data",
                "metadata": {
                  "tags": [],
                  "needs_background": "light"
                },
                "image/png": "iVBORw0KGgoAAAANSUhEUgAAAPsAAAD4CAYAAAAq5pAIAAAABHNCSVQICAgIfAhkiAAAAAlwSFlzAAALEgAACxIB0t1+/AAAADh0RVh0U29mdHdhcmUAbWF0cGxvdGxpYiB2ZXJzaW9uMy4yLjIsIGh0dHA6Ly9tYXRwbG90bGliLm9yZy+WH4yJAAANyElEQVR4nO3da6hd9ZnH8d/PG8a0L9RzSIIV49SgyIi2HOKAsTrUKSYvjPpCGrRkMBiFCC1U8TJEfSPIMLVMUCrpKE1MJ/VSg0GDl2pV9EXxGLxExTEjCSbkcrw2xUhN+syLs+wc49n/fdxr7UvyfD+w2XuvZ6+1Hrb+svZe/73O3xEhAIe+w/rdAIDeIOxAEoQdSIKwA0kQdiCJI3q5s6GhoZg9e3YvdwmksmXLFn3wwQeerFYr7LYvlPSfkg6X9F8RcUfp9bNnz9bo6GidXQIoGBkZaVnr+GO87cMl3S1pvqTTJS2yfXqn2wPQXXW+s8+VtDki3ouIv0r6naSFzbQFoGl1wn6CpPcnPN9WLfsK20ttj9oeHRsbq7E7AHV0/Wx8RKyMiJGIGBkeHu727gC0UCfs2yWdOOH5d6plAAZQnbC/LGmO7ZNtHyXpx5LWN9MWgKZ1PPQWEftsXyvpSY0Pvd0XEW821hmARtUaZ4+IDZI2NNQLgC7i57JAEoQdSIKwA0kQdiAJwg4kQdiBJHp6PTsOPosXLy7WV69eXayfc845LWsvvvhiRz2hMxzZgSQIO5AEYQeSIOxAEoQdSIKwA0kw9Jbc5s2bi/VHHnmkWD/ssPLxol0dvcN/CSAJwg4kQdiBJAg7kARhB5Ig7EAShB1IgnH2Q9zevXuL9ZtvvrnW+jh4cGQHkiDsQBKEHUiCsANJEHYgCcIOJEHYgSQYZz/Effrpp8X6888/39X9L1u2rKvbx9TVCrvtLZL2SNovaV9EjDTRFIDmNXFk/+eI+KCB7QDoIr6zA0nUDXtIesr2K7aXTvYC20ttj9oeHRsbq7k7AJ2qG/Z5EfF9SfMlLbP9gwNfEBErI2IkIkaGh4dr7g5Ap2qFPSK2V/e7Ja2TNLeJpgA0r+Ow255u+9tfPpb0I0mbmmoMQLPqnI2fIWmd7S+3898R8UQjXaExRx99dLE+bdq0ru5/5syZXd0+pq7jsEfEe5LObLAXAF3E0BuQBGEHkiDsQBKEHUiCsANJcInrIW7btm3F+vvvv19r+6tXry7WzzvvvFrbR3M4sgNJEHYgCcIOJEHYgSQIO5AEYQeSIOxAEoyzHwJKfy56zZo1xXWrS5Q7dsEFF9RaH73DkR1IgrADSRB2IAnCDiRB2IEkCDuQBGEHkmCc/SCwb9++Yv3qq69uWXv44Ydr7bu0bUmaMWNGre2jdziyA0kQdiAJwg4kQdiBJAg7kARhB5Ig7EASjLMfBDZv3lys1x1LL1m+fHnXto3eantkt32f7d22N01Ydpztp22/W90f2902AdQ1lY/xv5F04QHLbpT0TETMkfRM9RzAAGsb9oh4QdJHByxeKGlV9XiVpIsb7gtAwzo9QTcjInZUj3dKavkDadtLbY/aHh0bG+twdwDqqn02PiJCUhTqKyNiJCJGhoeH6+4OQIc6Dfsu27Mkqbrf3VxLALqh07Cvl7S4erxY0qPNtAOgW9qOs9teK+l8SUO2t0m6VdIdkh60vUTSVkmXdbPJ7ObOndu1ba9atapYH+Tr1bdu3Vqsn3TSST3q5ODQNuwRsahF6YcN9wKgi/i5LJAEYQeSIOxAEoQdSIKwA0lwiWsPfPHFF8X6lVdeWazv2bOnWD/qqKNa1q666qriupdffnmx3k2ff/55sX7uuecW6xs3bizWjznmmI7XnTNnTrF+MOLIDiRB2IEkCDuQBGEHkiDsQBKEHUiCsANJMM7eAy+99FKxvnbt2mL9sMPK/yZfeumlLWt33XVXcd269u/fX6y/8847LWsLFiworrtt27Zi3Xax/tlnn7WszZs3r7jua6+9VqzPnDmzWB9EHNmBJAg7kARhB5Ig7EAShB1IgrADSRB2IAnG2Xtg9erVXd3+Nddc09Xtl9x5553F+k033dTxtufPn1+sn3LKKcX6ihUrWtY+/PDD4rrt6oyzAxhYhB1IgrADSRB2IAnCDiRB2IEkCDuQBOPsDXjiiSeK9YceeqjW9i+66KJi/eyzz+542x9//HGx3u7vyj/55JPF+plnntmy9vjjjxfXHRoaKtYffPDBYr3Oto8//viOtz2o2h7Zbd9ne7ftTROW3WZ7u+1Xq1v5rxAA6LupfIz/jaQLJ1n+y4g4q7ptaLYtAE1rG/aIeEHSRz3oBUAX1TlBd63t16uP+ce2epHtpbZHbY+OjY3V2B2AOjoN+68kfVfSWZJ2SPpFqxdGxMqIGImIkeHh4Q53B6CujsIeEbsiYn9E/E3SryXNbbYtAE3rKOy2Z014eomkTa1eC2AwtB1nt71W0vmShmxvk3SrpPNtnyUpJG2RdHUXexx47a5X37t3b63tP/DAA8V6aX72Tz75pLjurbfeWqw/9dRTxfr06dOL9dJY+KxZs1rWJOnZZ58t1utcK79kyZJi/WC8Xr2dtmGPiEWTLL63C70A6CJ+LgskQdiBJAg7kARhB5Ig7EASXOLagIioVW+nNLTWTrtpj+++++6Oty1J999/f7F+8sknt6xt2bKluO4VV1xRrO/atatYL/2J7dtvv7247qGIIzuQBGEHkiDsQBKEHUiCsANJEHYgCcIOJME4ewNs16r3U93ennvuuWJ93bp1LWtr1qypte92l8jecssttbZ/qOHIDiRB2IEkCDuQBGEHkiDsQBKEHUiCsANJMM5+EFi0aLI/8Pv/SmPlO3fubLqdr1ixYkWxXmccf/78+cX6PffcU6zPmDGj430fijiyA0kQdiAJwg4kQdiBJAg7kARhB5Ig7EASjLM34IwzzijWS9MWT0W79Qf5evmhoaGWtQ0bNhTXbfe+HnnkkR31lFXbI7vtE23/0fZbtt+0/dNq+XG2n7b9bnV/bPfbBdCpqXyM3yfp5xFxuqR/krTM9umSbpT0TETMkfRM9RzAgGob9ojYEREbq8d7JL0t6QRJCyWtql62StLF3WoSQH3f6ASd7dmSvifpT5JmRMSOqrRT0qQ/RLa91Pao7dGxsbEarQKoY8pht/0tSb+X9LOI+PPEWozPXDjp7IURsTIiRiJiZHh4uFazADo3pbDbPlLjQf9tRDxSLd5le1ZVnyVpd3daBNCEtkNvHh/XuVfS2xFx54TSekmLJd1R3T/alQ4PAtdff32xfskllxTrjz32WLF+ww03fOOemrJ8+fJifeHChcX6qaee2rI2bdq0jnpCZ6Yyzn6OpJ9IesP2q9WymzUe8gdtL5G0VdJl3WkRQBPahj0iXpTU6lcbP2y2HQDdws9lgSQIO5AEYQeSIOxAEoQdSIJLXBtwxBHlt/G0006rVb/uuuu+cU/AgTiyA0kQdiAJwg4kQdiBJAg7kARhB5Ig7EAShB1IgrADSRB2IAnCDiRB2IEkCDuQBGEHkiDsQBKEHUiCsANJEHYgCcIOJEHYgSQIO5AEYQeSIOxAEm3DbvtE23+0/ZbtN23/tFp+m+3ttl+tbgu63y6ATk1lkoh9kn4eERttf1vSK7afrmq/jIj/6F57AJoylfnZd0jaUT3eY/ttSSd0uzEAzfpG39ltz5b0PUl/qhZda/t12/fZPrbFOkttj9oeHRsbq9UsgM5NOey2vyXp95J+FhF/lvQrSd+VdJbGj/y/mGy9iFgZESMRMTI8PNxAywA6MaWw2z5S40H/bUQ8IkkRsSsi9kfE3yT9WtLc7rUJoK6pnI23pHslvR0Rd05YPmvCyy6RtKn59gA0ZSpn48+R9BNJb9h+tVp2s6RFts+SFJK2SLq6Kx0CaMRUzsa/KMmTlDY03w6AbuEXdEAShB1IgrADSRB2IAnCDiRB2IEkCDuQBGEHkiDsQBKEHUiCsANJEHYgCcIOJEHYgSQcEb3bmT0maeuERUOSPuhZA9/MoPY2qH1J9NapJns7KSIm/ftvPQ3713Zuj0bESN8aKBjU3ga1L4neOtWr3vgYDyRB2IEk+h32lX3ef8mg9jaofUn01qme9NbX7+wAeqffR3YAPULYgST6EnbbF9p+x/Zm2zf2o4dWbG+x/UY1DfVon3u5z/Zu25smLDvO9tO2363uJ51jr0+9DcQ03oVpxvv63vV7+vOef2e3fbik/5H0L5K2SXpZ0qKIeKunjbRge4ukkYjo+w8wbP9A0l8krY6If6yW/bukjyLijuofymMj4oYB6e02SX/p9zTe1WxFsyZOMy7pYkn/qj6+d4W+LlMP3rd+HNnnStocEe9FxF8l/U7Swj70MfAi4gVJHx2weKGkVdXjVRr/n6XnWvQ2ECJiR0RsrB7vkfTlNON9fe8KffVEP8J+gqT3JzzfpsGa7z0kPWX7FdtL+93MJGZExI7q8U5JM/rZzCTaTuPdSwdMMz4w710n05/XxQm6r5sXEd+XNF/Ssurj6kCK8e9ggzR2OqVpvHtlkmnG/66f712n05/X1Y+wb5d04oTn36mWDYSI2F7d75a0ToM3FfWuL2fQre5397mfvxukabwnm2ZcA/De9XP6836E/WVJc2yfbPsoST+WtL4PfXyN7enViRPZni7pRxq8qajXS1pcPV4s6dE+9vIVgzKNd6tpxtXn967v059HRM9vkhZo/Iz8/0r6t3700KKvf5D0WnV7s9+9SVqr8Y91X2j83MYSScdLekbSu5L+IOm4AertfklvSHpd48Ga1afe5mn8I/rrkl6tbgv6/d4V+urJ+8bPZYEkOEEHJEHYgSQIO5AEYQeSIOxAEoQdSIKwA0n8H7UxGhEgYqiUAAAAAElFTkSuQmCC\n",
                "text/plain": "<Figure size 432x288 with 1 Axes>"
              }
            ],
            "_view_module": "@jupyter-widgets/output",
            "_model_module_version": "1.0.0",
            "_view_count": null,
            "_view_module_version": "1.0.0",
            "layout": "IPY_MODEL_c8a1e19c45db48cb803f9fd276393e3d",
            "_model_module": "@jupyter-widgets/output"
          }
        },
        "dd3aaab7d113448fb4e06d779e8400c3": {
          "model_module": "@jupyter-widgets/controls",
          "model_name": "SliderStyleModel",
          "state": {
            "_view_name": "StyleView",
            "handle_color": null,
            "_model_name": "SliderStyleModel",
            "description_width": "",
            "_view_module": "@jupyter-widgets/base",
            "_model_module_version": "1.5.0",
            "_view_count": null,
            "_view_module_version": "1.2.0",
            "_model_module": "@jupyter-widgets/controls"
          }
        },
        "8715941614084738a7d4ef25e21d1da0": {
          "model_module": "@jupyter-widgets/base",
          "model_name": "LayoutModel",
          "state": {
            "_view_name": "LayoutView",
            "grid_template_rows": null,
            "right": null,
            "justify_content": null,
            "_view_module": "@jupyter-widgets/base",
            "overflow": null,
            "_model_module_version": "1.2.0",
            "_view_count": null,
            "flex_flow": null,
            "width": null,
            "min_width": null,
            "border": null,
            "align_items": null,
            "bottom": null,
            "_model_module": "@jupyter-widgets/base",
            "top": null,
            "grid_column": null,
            "overflow_y": null,
            "overflow_x": null,
            "grid_auto_flow": null,
            "grid_area": null,
            "grid_template_columns": null,
            "flex": null,
            "_model_name": "LayoutModel",
            "justify_items": null,
            "grid_row": null,
            "max_height": null,
            "align_content": null,
            "visibility": null,
            "align_self": null,
            "height": null,
            "min_height": null,
            "padding": null,
            "grid_auto_rows": null,
            "grid_gap": null,
            "max_width": null,
            "order": null,
            "_view_module_version": "1.2.0",
            "grid_template_areas": null,
            "object_position": null,
            "object_fit": null,
            "grid_auto_columns": null,
            "margin": null,
            "display": null,
            "left": null
          }
        },
        "4e035b0af6514fbea0f7f5e16661f40a": {
          "model_module": "@jupyter-widgets/controls",
          "model_name": "ButtonStyleModel",
          "state": {
            "_view_name": "StyleView",
            "_model_name": "ButtonStyleModel",
            "_view_module": "@jupyter-widgets/base",
            "_model_module_version": "1.5.0",
            "_view_count": null,
            "button_color": null,
            "font_weight": "",
            "_view_module_version": "1.2.0",
            "_model_module": "@jupyter-widgets/controls"
          }
        },
        "130cdf90c9774d12b7c0d9fc8207f0e4": {
          "model_module": "@jupyter-widgets/base",
          "model_name": "LayoutModel",
          "state": {
            "_view_name": "LayoutView",
            "grid_template_rows": null,
            "right": null,
            "justify_content": null,
            "_view_module": "@jupyter-widgets/base",
            "overflow": null,
            "_model_module_version": "1.2.0",
            "_view_count": null,
            "flex_flow": null,
            "width": null,
            "min_width": null,
            "border": null,
            "align_items": null,
            "bottom": null,
            "_model_module": "@jupyter-widgets/base",
            "top": null,
            "grid_column": null,
            "overflow_y": null,
            "overflow_x": null,
            "grid_auto_flow": null,
            "grid_area": null,
            "grid_template_columns": null,
            "flex": null,
            "_model_name": "LayoutModel",
            "justify_items": null,
            "grid_row": null,
            "max_height": null,
            "align_content": null,
            "visibility": null,
            "align_self": null,
            "height": null,
            "min_height": null,
            "padding": null,
            "grid_auto_rows": null,
            "grid_gap": null,
            "max_width": null,
            "order": null,
            "_view_module_version": "1.2.0",
            "grid_template_areas": null,
            "object_position": null,
            "object_fit": null,
            "grid_auto_columns": null,
            "margin": null,
            "display": null,
            "left": null
          }
        },
        "c8a1e19c45db48cb803f9fd276393e3d": {
          "model_module": "@jupyter-widgets/base",
          "model_name": "LayoutModel",
          "state": {
            "_view_name": "LayoutView",
            "grid_template_rows": null,
            "right": null,
            "justify_content": null,
            "_view_module": "@jupyter-widgets/base",
            "overflow": null,
            "_model_module_version": "1.2.0",
            "_view_count": null,
            "flex_flow": null,
            "width": null,
            "min_width": null,
            "border": null,
            "align_items": null,
            "bottom": null,
            "_model_module": "@jupyter-widgets/base",
            "top": null,
            "grid_column": null,
            "overflow_y": null,
            "overflow_x": null,
            "grid_auto_flow": null,
            "grid_area": null,
            "grid_template_columns": null,
            "flex": null,
            "_model_name": "LayoutModel",
            "justify_items": null,
            "grid_row": null,
            "max_height": null,
            "align_content": null,
            "visibility": null,
            "align_self": null,
            "height": null,
            "min_height": null,
            "padding": null,
            "grid_auto_rows": null,
            "grid_gap": null,
            "max_width": null,
            "order": null,
            "_view_module_version": "1.2.0",
            "grid_template_areas": null,
            "object_position": null,
            "object_fit": null,
            "grid_auto_columns": null,
            "margin": null,
            "display": null,
            "left": null
          }
        }
      }
    }
  },
  "cells": [
    {
      "cell_type": "code",
      "metadata": {
        "id": "DGciS5Ic-LOl"
      },
      "source": [
        "%matplotlib inline\n",
        "\n",
        "import numpy as np\n",
        "import matplotlib.pyplot as plt\n",
        "import pandas as pd"
      ],
      "execution_count": 2,
      "outputs": []
    },
    {
      "cell_type": "code",
      "metadata": {
        "id": "2z5Nx1Rh-LOw"
      },
      "source": [
        "from tensorflow.keras.utils import to_categorical\n",
        "from tensorflow.keras.models import Sequential\n",
        "from tensorflow.keras.layers import Conv2D, MaxPooling2D\n",
        "from tensorflow.keras.layers import Dense, Flatten\n",
        "from tensorflow.keras.optimizers import SGD"
      ],
      "execution_count": 3,
      "outputs": []
    },
    {
      "cell_type": "markdown",
      "metadata": {
        "id": "wZdme6-i-LO5"
      },
      "source": [
        "### 1. 讀入 MNSIT 數據集"
      ]
    },
    {
      "cell_type": "code",
      "metadata": {
        "id": "GDGioa42-LO7"
      },
      "source": [
        "from tensorflow.keras.datasets import mnist"
      ],
      "execution_count": 4,
      "outputs": []
    },
    {
      "cell_type": "code",
      "metadata": {
        "id": "XfRv0AA8-LPD",
        "outputId": "fb5a710c-f901-40a9-cf47-e58b06e1715b",
        "colab": {
          "base_uri": "https://localhost:8080/"
        }
      },
      "source": [
        "(x_train, y_train), (x_test, y_test) = mnist.load_data()"
      ],
      "execution_count": 5,
      "outputs": [
        {
          "output_type": "stream",
          "text": [
            "Downloading data from https://storage.googleapis.com/tensorflow/tf-keras-datasets/mnist.npz\n",
            "11493376/11490434 [==============================] - 0s 0us/step\n"
          ],
          "name": "stdout"
        }
      ]
    },
    {
      "cell_type": "markdown",
      "metadata": {
        "id": "XD6dzM7X-LPL"
      },
      "source": [
        "### 2. 資料整理"
      ]
    },
    {
      "cell_type": "markdown",
      "metadata": {
        "id": "1974cN0k-LPN"
      },
      "source": [
        "### Channel\n",
        "\n",
        "CNN 要注意一張圖有多少個 channel, 開始我們因為只有灰階, 所以只有一個 channel。因此我們要轉一下我們的資料格式:\n",
        "\n",
        "    (28,28) --> (28, 28, 1)"
      ]
    },
    {
      "cell_type": "code",
      "metadata": {
        "id": "MUqh_2fZ-LPO"
      },
      "source": [
        "x_train = x_train.reshape(60000, 28, 28, 1) / 255"
      ],
      "execution_count": 6,
      "outputs": []
    },
    {
      "cell_type": "code",
      "metadata": {
        "id": "IhVix3rB-LPV"
      },
      "source": [
        "x_test = x_test.reshape(10000, 28, 28, 1) / 255"
      ],
      "execution_count": 7,
      "outputs": []
    },
    {
      "cell_type": "code",
      "metadata": {
        "id": "SuZYY1nB-LPd"
      },
      "source": [
        "y_train = to_categorical(y_train, 10)\n",
        "y_test = to_categorical(y_test, 10)"
      ],
      "execution_count": 8,
      "outputs": []
    },
    {
      "cell_type": "markdown",
      "metadata": {
        "id": "Sr1Pmxge-LPm"
      },
      "source": [
        "### 3. step 1: 打造函數學習機 (CNN)"
      ]
    },
    {
      "cell_type": "code",
      "metadata": {
        "id": "a0A1g8Fo-LPn"
      },
      "source": [
        "model = Sequential()"
      ],
      "execution_count": 9,
      "outputs": []
    },
    {
      "cell_type": "code",
      "metadata": {
        "id": "vlEytnEc-LPv"
      },
      "source": [
        "model.add(Conv2D(8, (3,3), padding='same',\n",
        "                input_shape=(28,28,1),\n",
        "                activation='relu'))"
      ],
      "execution_count": 10,
      "outputs": []
    },
    {
      "cell_type": "code",
      "metadata": {
        "id": "NwZfulsK-LP1"
      },
      "source": [
        "model.add(MaxPooling2D(pool_size=(2,2)))"
      ],
      "execution_count": 11,
      "outputs": []
    },
    {
      "cell_type": "code",
      "metadata": {
        "id": "h23rZ9oj-LP7"
      },
      "source": [
        "model.add(Conv2D(16, (3,3), padding='same',\n",
        "                activation='relu'))"
      ],
      "execution_count": 12,
      "outputs": []
    },
    {
      "cell_type": "code",
      "metadata": {
        "id": "jZzu3-e2-LP_"
      },
      "source": [
        "model.add(MaxPooling2D(pool_size=(2,2)))"
      ],
      "execution_count": 13,
      "outputs": []
    },
    {
      "cell_type": "code",
      "metadata": {
        "id": "Thsvj4Dy-LQD"
      },
      "source": [
        "model.add(Conv2D(32, (3,3), padding='same',\n",
        "                activation='relu'))"
      ],
      "execution_count": 15,
      "outputs": []
    },
    {
      "cell_type": "code",
      "metadata": {
        "id": "Gh0QrtlU-LQH"
      },
      "source": [
        "model.add(MaxPooling2D(pool_size=(2,2)))"
      ],
      "execution_count": 16,
      "outputs": []
    },
    {
      "cell_type": "code",
      "metadata": {
        "id": "gAkJuImY-LQL"
      },
      "source": [
        "model.add(Flatten())"
      ],
      "execution_count": 17,
      "outputs": []
    },
    {
      "cell_type": "code",
      "metadata": {
        "id": "mlgg_MS4-LQP"
      },
      "source": [
        "model.add(Dense(20, activation='relu'))"
      ],
      "execution_count": 18,
      "outputs": []
    },
    {
      "cell_type": "code",
      "metadata": {
        "id": "UxXiQj6l-LQS"
      },
      "source": [
        "model.add(Dense(10, activation='softmax'))"
      ],
      "execution_count": 19,
      "outputs": []
    },
    {
      "cell_type": "markdown",
      "metadata": {
        "id": "F1_E2dPp-LQV"
      },
      "source": [
        "#### 看一下我們的神經網路"
      ]
    },
    {
      "cell_type": "code",
      "metadata": {
        "id": "yudUN3Ol-LQV",
        "outputId": "277bc1ab-6987-4961-e598-0dedd17f74ed",
        "colab": {
          "base_uri": "https://localhost:8080/"
        }
      },
      "source": [
        "model.summary()"
      ],
      "execution_count": 20,
      "outputs": [
        {
          "output_type": "stream",
          "text": [
            "Model: \"sequential\"\n",
            "_________________________________________________________________\n",
            "Layer (type)                 Output Shape              Param #   \n",
            "=================================================================\n",
            "conv2d (Conv2D)              (None, 28, 28, 8)         80        \n",
            "_________________________________________________________________\n",
            "max_pooling2d (MaxPooling2D) (None, 14, 14, 8)         0         \n",
            "_________________________________________________________________\n",
            "conv2d_1 (Conv2D)            (None, 14, 14, 16)        1168      \n",
            "_________________________________________________________________\n",
            "max_pooling2d_1 (MaxPooling2 (None, 7, 7, 16)          0         \n",
            "_________________________________________________________________\n",
            "conv2d_2 (Conv2D)            (None, 7, 7, 32)          4640      \n",
            "_________________________________________________________________\n",
            "conv2d_3 (Conv2D)            (None, 7, 7, 32)          9248      \n",
            "_________________________________________________________________\n",
            "max_pooling2d_2 (MaxPooling2 (None, 3, 3, 32)          0         \n",
            "_________________________________________________________________\n",
            "flatten (Flatten)            (None, 288)               0         \n",
            "_________________________________________________________________\n",
            "dense (Dense)                (None, 20)                5780      \n",
            "_________________________________________________________________\n",
            "dense_1 (Dense)              (None, 10)                210       \n",
            "=================================================================\n",
            "Total params: 21,126\n",
            "Trainable params: 21,126\n",
            "Non-trainable params: 0\n",
            "_________________________________________________________________\n"
          ],
          "name": "stdout"
        }
      ]
    },
    {
      "cell_type": "markdown",
      "metadata": {
        "id": "F_UAf5EZ-LQZ"
      },
      "source": [
        "#### 組裝"
      ]
    },
    {
      "cell_type": "code",
      "metadata": {
        "id": "PJvJa0vG-LQa"
      },
      "source": [
        "model.compile(loss='mse', optimizer=SGD(lr=0.087),\n",
        "             metrics=['accuracy'])"
      ],
      "execution_count": 21,
      "outputs": []
    },
    {
      "cell_type": "markdown",
      "metadata": {
        "id": "vfa1Q976-LQd"
      },
      "source": [
        "### 4. step 2: fit"
      ]
    },
    {
      "cell_type": "code",
      "metadata": {
        "scrolled": true,
        "id": "sR8uKOiz-LQe",
        "outputId": "a0d168f0-63d2-4286-a321-5201d4afe5cb",
        "colab": {
          "base_uri": "https://localhost:8080/"
        }
      },
      "source": [
        "model.fit(x_train, y_train, batch_size=128, epochs=12)"
      ],
      "execution_count": 22,
      "outputs": [
        {
          "output_type": "stream",
          "text": [
            "Epoch 1/12\n",
            "469/469 [==============================] - 31s 66ms/step - loss: 0.0899 - accuracy: 0.1378\n",
            "Epoch 2/12\n",
            "469/469 [==============================] - 31s 66ms/step - loss: 0.0893 - accuracy: 0.2005\n",
            "Epoch 3/12\n",
            "469/469 [==============================] - 31s 67ms/step - loss: 0.0878 - accuracy: 0.3196\n",
            "Epoch 4/12\n",
            "469/469 [==============================] - 32s 67ms/step - loss: 0.0761 - accuracy: 0.4580\n",
            "Epoch 5/12\n",
            "469/469 [==============================] - 31s 67ms/step - loss: 0.0387 - accuracy: 0.7404\n",
            "Epoch 6/12\n",
            "469/469 [==============================] - 31s 67ms/step - loss: 0.0266 - accuracy: 0.8195\n",
            "Epoch 7/12\n",
            "469/469 [==============================] - 36s 76ms/step - loss: 0.0232 - accuracy: 0.8416\n",
            "Epoch 8/12\n",
            "469/469 [==============================] - 31s 66ms/step - loss: 0.0213 - accuracy: 0.8538\n",
            "Epoch 9/12\n",
            "469/469 [==============================] - 31s 67ms/step - loss: 0.0202 - accuracy: 0.8598\n",
            "Epoch 10/12\n",
            "469/469 [==============================] - 31s 67ms/step - loss: 0.0193 - accuracy: 0.8646\n",
            "Epoch 11/12\n",
            "469/469 [==============================] - 31s 67ms/step - loss: 0.0186 - accuracy: 0.8689\n",
            "Epoch 12/12\n",
            "469/469 [==============================] - 31s 67ms/step - loss: 0.0180 - accuracy: 0.8728\n"
          ],
          "name": "stdout"
        },
        {
          "output_type": "execute_result",
          "data": {
            "text/plain": [
              "<tensorflow.python.keras.callbacks.History at 0x7f401ea2aa58>"
            ]
          },
          "metadata": {
            "tags": []
          },
          "execution_count": 22
        }
      ]
    },
    {
      "cell_type": "markdown",
      "metadata": {
        "id": "PLkqnokV-LQj"
      },
      "source": [
        "### Step 3. 預測"
      ]
    },
    {
      "cell_type": "code",
      "metadata": {
        "id": "-10Aeq2l-LQj",
        "outputId": "235bbe5f-3299-4b24-8224-bb81b8008743",
        "colab": {
          "base_uri": "https://localhost:8080/"
        }
      },
      "source": [
        "result = model.predict_classes(x_test)"
      ],
      "execution_count": 23,
      "outputs": [
        {
          "output_type": "stream",
          "text": [
            "WARNING:tensorflow:From <ipython-input-23-63af5bb2f9b6>:1: Sequential.predict_classes (from tensorflow.python.keras.engine.sequential) is deprecated and will be removed after 2021-01-01.\n",
            "Instructions for updating:\n",
            "Please use instead:* `np.argmax(model.predict(x), axis=-1)`,   if your model does multi-class classification   (e.g. if it uses a `softmax` last-layer activation).* `(model.predict(x) > 0.5).astype(\"int32\")`,   if your model does binary classification   (e.g. if it uses a `sigmoid` last-layer activation).\n"
          ],
          "name": "stdout"
        }
      ]
    },
    {
      "cell_type": "markdown",
      "metadata": {
        "id": "9ZSY7jio-LQm"
      },
      "source": [
        "### 看看測試資料表現如何"
      ]
    },
    {
      "cell_type": "code",
      "metadata": {
        "id": "67mcunvC-LQm",
        "outputId": "0867e162-fb2a-4654-8227-cc886c0deb87",
        "colab": {
          "base_uri": "https://localhost:8080/"
        }
      },
      "source": [
        "loss, acc = model.evaluate(x_test, y_test)"
      ],
      "execution_count": 24,
      "outputs": [
        {
          "output_type": "stream",
          "text": [
            "313/313 [==============================] - 3s 9ms/step - loss: 0.0179 - accuracy: 0.8749\n"
          ],
          "name": "stdout"
        }
      ]
    },
    {
      "cell_type": "code",
      "metadata": {
        "id": "QYtkhtO0-LQq",
        "outputId": "02ef6859-a4f6-40ad-db3c-29fc6214a5f8",
        "colab": {
          "base_uri": "https://localhost:8080/"
        }
      },
      "source": [
        "print(f'測試資料的正確率為 {acc*100:.2f}%')"
      ],
      "execution_count": 25,
      "outputs": [
        {
          "output_type": "stream",
          "text": [
            "測試資料的正確率為 87.49%\n"
          ],
          "name": "stdout"
        }
      ]
    },
    {
      "cell_type": "code",
      "metadata": {
        "id": "cw7W7OpH-LQs"
      },
      "source": [
        "def my_predict(n):\n",
        "    print('我可愛的 CNN 預測是', result[n])\n",
        "    X = x_test[n].reshape(28,28)\n",
        "    plt.imshow(X, cmap='Greys')"
      ],
      "execution_count": 26,
      "outputs": []
    },
    {
      "cell_type": "code",
      "metadata": {
        "id": "lJ4Oyma3-LQw"
      },
      "source": [
        "from ipywidgets import interact_manual"
      ],
      "execution_count": 27,
      "outputs": []
    },
    {
      "cell_type": "code",
      "metadata": {
        "id": "b0K7rbuk-LQ0",
        "outputId": "5ecb4004-dbac-48f6-e952-564367d01fb7",
        "colab": {
          "base_uri": "https://localhost:8080/",
          "height": 346,
          "referenced_widgets": [
            "21d47cf4864445598041fe89c0db7799",
            "715164be77384bd6b9bf356a07e42651",
            "21fdf744e4be49f6a2cea7b19d9386db",
            "b7bc6e346903423cb0614758f0f7362d",
            "91cf189379e54d0181a5fe6a7a25b906",
            "dd3aaab7d113448fb4e06d779e8400c3",
            "8715941614084738a7d4ef25e21d1da0",
            "4e035b0af6514fbea0f7f5e16661f40a",
            "130cdf90c9774d12b7c0d9fc8207f0e4",
            "c8a1e19c45db48cb803f9fd276393e3d"
          ]
        }
      },
      "source": [
        "interact_manual(my_predict, n=(0, 9999));"
      ],
      "execution_count": 28,
      "outputs": [
        {
          "output_type": "display_data",
          "data": {
            "application/vnd.jupyter.widget-view+json": {
              "model_id": "21d47cf4864445598041fe89c0db7799",
              "version_minor": 0,
              "version_major": 2
            },
            "text/plain": [
              "interactive(children=(IntSlider(value=4999, description='n', max=9999), Button(description='Run Interact', sty…"
            ]
          },
          "metadata": {
            "tags": []
          }
        }
      ]
    },
    {
      "cell_type": "markdown",
      "metadata": {
        "id": "-i7PdeCL-LQ2"
      },
      "source": [
        "### 把我們的 model 存起來"
      ]
    },
    {
      "cell_type": "code",
      "metadata": {
        "id": "RPlMVkmH-LQ2"
      },
      "source": [
        "model.save('myCNNmodel.h5')"
      ],
      "execution_count": 29,
      "outputs": []
    }
  ]
}